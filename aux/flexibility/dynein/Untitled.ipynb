{
 "cells": [
  {
   "cell_type": "code",
   "execution_count": 2,
   "metadata": {},
   "outputs": [],
   "source": [
    "using JUMD, DelimitedFiles, FileIO"
   ]
  },
  {
   "cell_type": "code",
   "execution_count": 6,
   "metadata": {},
   "outputs": [
    {
     "data": {
      "text/plain": [
       "504-element Array{Float64,1}:\n",
       " 0.008278760689289162\n",
       " 0.009672498854635217\n",
       " 0.018254825607059058\n",
       " 0.025944095324083427\n",
       " 0.029552573253147866\n",
       " 0.031606966513728116\n",
       " 0.031907224063834186\n",
       " 0.03632569728340516\n",
       " 0.03718901754953417\n",
       " 0.03770657860417631\n",
       " 0.03991485114700663\n",
       " 0.04116984531548155\n",
       " 0.04250274730700434\n",
       " ⋮\n",
       " 0.32497627885431\n",
       " 0.32884400488657267\n",
       " 0.3337528325906055\n",
       " 0.3356229860452051\n",
       " 0.3445765964723888\n",
       " 0.35581365431769774\n",
       " 0.36006233870972326\n",
       " 0.36363722855812336\n",
       " 0.3695575288223634\n",
       " 0.3765801574767043\n",
       " 0.3923341985479069\n",
       " 0.42296335040298255"
      ]
     },
     "execution_count": 6,
     "metadata": {},
     "output_type": "execute_result"
    }
   ],
   "source": [
    "vgv = readdlm(\"1_vgv\")[:, 1]\n",
    "frq = readdlm(\"frequencies_lc8\")[:, 1]"
   ]
  },
  {
   "cell_type": "code",
   "execution_count": 35,
   "metadata": {},
   "outputs": [
    {
     "data": {
      "text/plain": [
       "0.0682823893719435"
      ]
     },
     "execution_count": 35,
     "metadata": {},
     "output_type": "execute_result"
    }
   ],
   "source": [
    "1/(sum((frq*100) .* ((vgv ./ norm(vgv)).^2)))"
   ]
  },
  {
   "cell_type": "code",
   "execution_count": 33,
   "metadata": {},
   "outputs": [
    {
     "data": {
      "text/plain": [
       "504-element Array{Float64,1}:\n",
       " 0.008278760689289162\n",
       " 0.009672498854635217\n",
       " 0.018254825607059058\n",
       " 0.025944095324083427\n",
       " 0.029552573253147866\n",
       " 0.031606966513728116\n",
       " 0.031907224063834186\n",
       " 0.03632569728340516\n",
       " 0.03718901754953417\n",
       " 0.03770657860417631\n",
       " 0.03991485114700663\n",
       " 0.04116984531548155\n",
       " 0.04250274730700434\n",
       " ⋮\n",
       " 0.32497627885431\n",
       " 0.32884400488657267\n",
       " 0.3337528325906055\n",
       " 0.3356229860452051\n",
       " 0.3445765964723888\n",
       " 0.35581365431769774\n",
       " 0.36006233870972326\n",
       " 0.36363722855812336\n",
       " 0.3695575288223634\n",
       " 0.3765801574767043\n",
       " 0.3923341985479069\n",
       " 0.42296335040298255"
      ]
     },
     "execution_count": 33,
     "metadata": {},
     "output_type": "execute_result"
    }
   ],
   "source": [
    "frq"
   ]
  },
  {
   "cell_type": "code",
   "execution_count": 30,
   "metadata": {},
   "outputs": [
    {
     "data": {
      "text/plain": [
       "436.03047100059416"
      ]
     },
     "execution_count": 30,
     "metadata": {},
     "output_type": "execute_result"
    }
   ],
   "source": []
  },
  {
   "cell_type": "code",
   "execution_count": 16,
   "metadata": {},
   "outputs": [
    {
     "data": {
      "text/plain": [
       "([-0.006827162491846087 -0.0359029157265094 … 0.00367343061383043 0.004020052942131938; -0.07021234115979783 0.001490178934594502 … 0.0033615355617127524 0.0022179602439348625; … ; -0.033927878576230044 0.0036734643503957493 … -0.002079300347451187 0.00031190065930334005; 0.008455977908682463 0.0047477793962662045 … 0.002876365480640809 -0.0010050132355329845], [4.11017, 4.63779, 6.06453, 7.79332, 8.7269, 9.79769, 10.87819, 12.08438, 13.46599, 13.76896  …  621.01225, 621.29603, 622.39667, 623.23152, 626.10682, 627.02596, 628.95847, 655.65147, 659.09149, 663.22059])"
      ]
     },
     "execution_count": 16,
     "metadata": {},
     "output_type": "execute_result"
    }
   ],
   "source": [
    "modes, evalor = JUMD.readPtrajModes(\"/home/pbarletta/labo/ANA/aux/flexibility/lbp/modes_4uet\")"
   ]
  },
  {
   "cell_type": "code",
   "execution_count": null,
   "metadata": {},
   "outputs": [],
   "source": [
    "JUMD.barletta_index"
   ]
  },
  {
   "cell_type": "code",
   "execution_count": 19,
   "metadata": {},
   "outputs": [
    {
     "data": {
      "text/plain": [
       "399-element Array{Float64,1}:\n",
       "   4.11017\n",
       "   4.63779\n",
       "   6.06453\n",
       "   7.79332\n",
       "   8.7269\n",
       "   9.79769\n",
       "  10.87819\n",
       "  12.08438\n",
       "  13.46599\n",
       "  13.76896\n",
       "  15.67708\n",
       "  16.50941\n",
       "  17.67935\n",
       "   ⋮\n",
       " 616.11492\n",
       " 616.97898\n",
       " 621.01225\n",
       " 621.29603\n",
       " 622.39667\n",
       " 623.23152\n",
       " 626.10682\n",
       " 627.02596\n",
       " 628.95847\n",
       " 655.65147\n",
       " 659.09149\n",
       " 663.22059"
      ]
     },
     "execution_count": 19,
     "metadata": {},
     "output_type": "execute_result"
    }
   ],
   "source": [
    "evalor"
   ]
  }
 ],
 "metadata": {
  "kernelspec": {
   "display_name": "Julia 1.4.2",
   "language": "julia",
   "name": "julia-1.4"
  },
  "language_info": {
   "file_extension": ".jl",
   "mimetype": "application/julia",
   "name": "julia",
   "version": "1.4.2"
  }
 },
 "nbformat": 4,
 "nbformat_minor": 2
}
